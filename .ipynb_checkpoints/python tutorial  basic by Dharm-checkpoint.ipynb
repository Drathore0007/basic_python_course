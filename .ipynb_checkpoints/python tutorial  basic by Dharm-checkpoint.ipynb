{
 "cells": [
  {
   "cell_type": "code",
   "execution_count": 1,
   "metadata": {},
   "outputs": [],
   "source": [
    "# This Git Repo is for basic Tutorial for beginer"
   ]
  },
  {
   "cell_type": "code",
   "execution_count": 1,
   "metadata": {},
   "outputs": [
    {
     "name": "stdout",
     "output_type": "stream",
     "text": [
      "hello world...!!!\n"
     ]
    }
   ],
   "source": [
    "print(\"hello world...!!!\")"
   ]
  },
  {
   "cell_type": "code",
   "execution_count": 2,
   "metadata": {},
   "outputs": [
    {
     "name": "stdout",
     "output_type": "stream",
     "text": [
      "5\n",
      "<class 'int'>\n",
      "['__abs__', '__add__', '__and__', '__bool__', '__ceil__', '__class__', '__delattr__', '__dir__', '__divmod__', '__doc__', '__eq__', '__float__', '__floor__', '__floordiv__', '__format__', '__ge__', '__getattribute__', '__getnewargs__', '__gt__', '__hash__', '__index__', '__init__', '__init_subclass__', '__int__', '__invert__', '__le__', '__lshift__', '__lt__', '__mod__', '__mul__', '__ne__', '__neg__', '__new__', '__or__', '__pos__', '__pow__', '__radd__', '__rand__', '__rdivmod__', '__reduce__', '__reduce_ex__', '__repr__', '__rfloordiv__', '__rlshift__', '__rmod__', '__rmul__', '__ror__', '__round__', '__rpow__', '__rrshift__', '__rshift__', '__rsub__', '__rtruediv__', '__rxor__', '__setattr__', '__sizeof__', '__str__', '__sub__', '__subclasshook__', '__truediv__', '__trunc__', '__xor__', 'bit_length', 'conjugate', 'denominator', 'from_bytes', 'imag', 'numerator', 'real', 'to_bytes']\n",
      "\n",
      "\n",
      "25\n"
     ]
    }
   ],
   "source": [
    "\"\"\" Int value \"\"\"\n",
    "\n",
    "a= 5\n",
    "print(a)\n",
    "print(type(a))\n",
    "print(dir(a))\n",
    "print(\"\\n\")\n",
    "print(a.__pow__(2))"
   ]
  },
  {
   "cell_type": "code",
   "execution_count": 3,
   "metadata": {},
   "outputs": [
    {
     "name": "stdout",
     "output_type": "stream",
     "text": [
      "9223372036854775807\n"
     ]
    }
   ],
   "source": [
    "import sys\n",
    "\n",
    "print(sys.maxsize) # returns max value of int can be taken by system.\n",
    "print(sys.sizeof(int())) # return size of int in system"
   ]
  },
  {
   "cell_type": "code",
   "execution_count": 4,
   "metadata": {},
   "outputs": [
    {
     "name": "stdout",
     "output_type": "stream",
     "text": [
      "5.0\n",
      "<class 'float'>\n",
      "['__abs__', '__add__', '__bool__', '__class__', '__delattr__', '__dir__', '__divmod__', '__doc__', '__eq__', '__float__', '__floordiv__', '__format__', '__ge__', '__getattribute__', '__getformat__', '__getnewargs__', '__gt__', '__hash__', '__init__', '__init_subclass__', '__int__', '__le__', '__lt__', '__mod__', '__mul__', '__ne__', '__neg__', '__new__', '__pos__', '__pow__', '__radd__', '__rdivmod__', '__reduce__', '__reduce_ex__', '__repr__', '__rfloordiv__', '__rmod__', '__rmul__', '__round__', '__rpow__', '__rsub__', '__rtruediv__', '__setattr__', '__setformat__', '__sizeof__', '__str__', '__sub__', '__subclasshook__', '__truediv__', '__trunc__', 'as_integer_ratio', 'conjugate', 'fromhex', 'hex', 'imag', 'is_integer', 'real']\n",
      "\n",
      "\n",
      "25.0\n"
     ]
    }
   ],
   "source": [
    "\"\"\" Float vlaue \"\"\"\n",
    "b= 5.0\n",
    "print(b)\n",
    "print(type(b))\n",
    "print(dir(b))\n",
    "print(\"\\n\")\n",
    "print(b.__pow__(2))"
   ]
  },
  {
   "cell_type": "code",
   "execution_count": 5,
   "metadata": {},
   "outputs": [
    {
     "name": "stdout",
     "output_type": "stream",
     "text": [
      "hello, world...!!!\n",
      "<class 'str'>\n",
      "18\n",
      "['hello', ' world...!!!']\n",
      ", world...!!!\n",
      "Hello, world...!!!\n",
      "['__add__', '__class__', '__contains__', '__delattr__', '__dir__', '__doc__', '__eq__', '__format__', '__ge__', '__getattribute__', '__getitem__', '__getnewargs__', '__gt__', '__hash__', '__init__', '__init_subclass__', '__iter__', '__le__', '__len__', '__lt__', '__mod__', '__mul__', '__ne__', '__new__', '__reduce__', '__reduce_ex__', '__repr__', '__rmod__', '__rmul__', '__setattr__', '__sizeof__', '__str__', '__subclasshook__', 'capitalize', 'casefold', 'center', 'count', 'encode', 'endswith', 'expandtabs', 'find', 'format', 'format_map', 'index', 'isalnum', 'isalpha', 'isdecimal', 'isdigit', 'isidentifier', 'islower', 'isnumeric', 'isprintable', 'isspace', 'istitle', 'isupper', 'join', 'ljust', 'lower', 'lstrip', 'maketrans', 'partition', 'replace', 'rfind', 'rindex', 'rjust', 'rpartition', 'rsplit', 'rstrip', 'split', 'splitlines', 'startswith', 'strip', 'swapcase', 'title', 'translate', 'upper', 'zfill']\n",
      "2\n",
      "HELLO, WORLD...!!!\n",
      "hello, world...!!!\n"
     ]
    }
   ],
   "source": [
    "\"\"\" Strings \"\"\"\n",
    "\n",
    "s= \"hello, world...!!!\"\n",
    "\n",
    "print(s)\n",
    "print(type(s))\n",
    "print(len(s))\n",
    "print(s.split(\",\")) #split string on the base of delimiter\n",
    "print(s.strip(\"hello\")) # strip given substring from string.\n",
    "print(s.capitalize()) # it capitalize first character of string\n",
    "\n",
    "print(dir(s))\n",
    "\n",
    "print(s.find(\"l\")) # returns a position of string character\n",
    "\n",
    "print(s.upper())\n",
    "print(s.lower())\n",
    "\n",
    "\n"
   ]
  },
  {
   "cell_type": "code",
   "execution_count": 6,
   "metadata": {},
   "outputs": [
    {
     "name": "stdout",
     "output_type": "stream",
     "text": [
      "[2, 5, 2, 'hello', 'team', False, True, 5.0]\n",
      "8\n",
      "2\n",
      "\n",
      "\n",
      "[2, 5, 2, 'hello', 'team', False, True, 5.0]\n",
      "[2, 5, 2, 'hello', 'team', False, True, 5.0]\n",
      "[2, 5]\n",
      "[2, 5, 2, 'hello', 'team', False, True]\n",
      "\n",
      "\n",
      "smart erp\n",
      "5.0\n",
      "['dharm', 2, 5, 2, 'hello', 'team', False, True]\n",
      "\n",
      "\n",
      "['__add__', '__class__', '__contains__', '__delattr__', '__delitem__', '__dir__', '__doc__', '__eq__', '__format__', '__ge__', '__getattribute__', '__getitem__', '__gt__', '__hash__', '__iadd__', '__imul__', '__init__', '__init_subclass__', '__iter__', '__le__', '__len__', '__lt__', '__mul__', '__ne__', '__new__', '__reduce__', '__reduce_ex__', '__repr__', '__reversed__', '__rmul__', '__setattr__', '__setitem__', '__sizeof__', '__str__', '__subclasshook__', 'append', 'clear', 'copy', 'count', 'extend', 'index', 'insert', 'pop', 'remove', 'reverse', 'sort']\n"
     ]
    }
   ],
   "source": [
    "\"\"\" List \"\"\"\n",
    "\n",
    "l = [2,5,2,\"hello\", \"team\", False, True, 5.0,] # defining a list\n",
    "\n",
    "print(l)  \n",
    "print(len(l)) # len() returns a lenght of a list.\n",
    "print(l[0])   # list_object[index] returns a vlaue at that index\n",
    "print(\"\\n\")\n",
    "\n",
    "print(l[0:]) #list_object[starting index: ] retuns a list elements. \n",
    "print(l[:])\n",
    "\n",
    "print(l[0:2]) #list_object[starting index: end index] retuns a list element where end index element is not returned. \n",
    "print(l[:-1])\n",
    "print(\"\\n\")\n",
    "\n",
    "l.append(\"smart erp\") # append() a element in a list.\n",
    "print(l.pop())  # pop() take out a list element permanently.\n",
    "\n",
    "l.insert(0, \"dharm\") # insert(index, element)  inserts an element in a list at a given index.\n",
    "print(l.pop(-1)) # pop(index) returns an element at given index.\n",
    "print(l)\n",
    "print(\"\\n\")\n",
    "\n",
    "print(dir(l))"
   ]
  },
  {
   "cell_type": "code",
   "execution_count": 7,
   "metadata": {},
   "outputs": [
    {
     "name": "stdout",
     "output_type": "stream",
     "text": [
      "(2, 5, 2, 'hello', 'team', False, True, 5.0)\n",
      "8\n",
      "2\n",
      "2\n",
      "\n",
      "\n",
      "(2, 5, 2, 'hello', 'team', False, True, 5.0)\n",
      "(2, 5, 2, 'hello', 'team', False, True, 5.0)\n",
      "(2, 5)\n",
      "(2, 5, 2, 'hello', 'team', False, True)\n",
      "\n",
      "\n",
      "(2, 5, 2, 'hello', 'team', False, True, 5.0)\n",
      "1\n",
      "1\n",
      "\n",
      "\n",
      "['__add__', '__class__', '__contains__', '__delattr__', '__dir__', '__doc__', '__eq__', '__format__', '__ge__', '__getattribute__', '__getitem__', '__getnewargs__', '__gt__', '__hash__', '__init__', '__init_subclass__', '__iter__', '__le__', '__len__', '__lt__', '__mul__', '__ne__', '__new__', '__reduce__', '__reduce_ex__', '__repr__', '__rmul__', '__setattr__', '__sizeof__', '__str__', '__subclasshook__', 'count', 'index']\n"
     ]
    }
   ],
   "source": [
    "\"\"\" Tuple \"\"\"\n",
    "\n",
    "t = (2,5,2,\"hello\", \"team\", False, True, 5.0)\n",
    "\n",
    "print(t)  \n",
    "\n",
    "print(len(t)) # len() returns a lenght of a list.\n",
    "print(t[0])   # list_object[index] returns a vlaue at that index\n",
    "print(t.__getitem__(0))\n",
    "print(\"\\n\")\n",
    "\n",
    "print(t[0:]) #list_object[starting index: ] retuns a list elements. \n",
    "print(t[:])\n",
    "\n",
    "print(t[0:2]) #list_object[starting index: end index] retuns a list element where end index element is not returned. \n",
    "print(t[:-1])\n",
    "print(\"\\n\")\n",
    "\n",
    "print(t)\n",
    "print(t.index(5))  # tuple_object.index(element) returns a index of that element.\n",
    "print(t.count(\"hello\")) # tuple_object.count(element) returns number of time it has occurancy in tuple\n",
    "print(\"\\n\")\n",
    "\n",
    "print(dir(t))"
   ]
  },
  {
   "cell_type": "code",
   "execution_count": 26,
   "metadata": {},
   "outputs": [
    {
     "name": "stdout",
     "output_type": "stream",
     "text": [
      "tuple size in byte:  88\n",
      "list size in byte :  104\n",
      "\n",
      "\n",
      "list defining time:  0.001730077183310641\n",
      "tuple defining time:  0.00011798100422311109\n"
     ]
    }
   ],
   "source": [
    "\"\"\" Difference between tuple and list\"\"\"\n",
    "l = [2, 5, 2, 'hello', 'team', False, True, 5.0]\n",
    "tup = (2, 5, 2, 'hello', 'team', False, True, 5.0)\n",
    "#tuple takes less memmory than a list.\n",
    "\n",
    "print(\"list size in byte : \", l.__sizeof__())\n",
    "print(\"tuple size in byte: \", tup.__sizeof__())\n",
    "\n",
    "\n",
    "print(\"\\n\")\n",
    "\"\"\" Tuple defining is faster than list \"\"\"\n",
    "\n",
    "import timeit\n",
    "\n",
    "\n",
    "def li():   # defining a list\n",
    "    \"Stupid test function\"\n",
    "    l = [i for i in range(10000)]\n",
    "    \n",
    "        \n",
    "def tup(): #defining a tuple\n",
    "    \"Stupid test function\"\n",
    "    tup = (i for i in range(10000))\n",
    "    \n",
    "\n",
    "\n",
    "        \n",
    "    \n",
    "start1 = timeit.default_timer()\n",
    "li()\n",
    "stop1 = timeit.default_timer()\n",
    "\n",
    "start2 = timeit.default_timer()\n",
    "tup()\n",
    "stop2 = timeit.default_timer()\n",
    "\n",
    "print (\"list defining time: \", stop1 - start1)\n",
    "print(\"tuple defining time: \", stop2-start2)"
   ]
  },
  {
   "cell_type": "code",
   "execution_count": 3,
   "metadata": {},
   "outputs": [
    {
     "name": "stdout",
     "output_type": "stream",
     "text": [
      "{'Batman': 'Bruce wayne', 'IronMan': 'Tony stark, #I am Iron Man', 'Spiderman': 'Peter parker', 'Superman': 'Clark Kent', 'Wonder woman': 'Diana Prince', 'Captain America': 'Steve Roger', 'Jocker': 'UnKnown'}\n",
      "\n",
      "\n",
      "dict_keys(['Batman', 'IronMan', 'Spiderman', 'Superman', 'Wonder woman', 'Captain America', 'Jocker'])\n",
      "\n",
      "\n",
      "dict_values(['Bruce wayne', 'Tony stark, #I am Iron Man', 'Peter parker', 'Clark Kent', 'Diana Prince', 'Steve Roger', 'UnKnown'])\n",
      "\n",
      "\n",
      "Bruce wayne\n",
      "None\n",
      "['__class__', '__contains__', '__delattr__', '__delitem__', '__dir__', '__doc__', '__eq__', '__format__', '__ge__', '__getattribute__', '__getitem__', '__gt__', '__hash__', '__init__', '__init_subclass__', '__iter__', '__le__', '__len__', '__lt__', '__ne__', '__new__', '__reduce__', '__reduce_ex__', '__repr__', '__setattr__', '__setitem__', '__sizeof__', '__str__', '__subclasshook__', 'clear', 'copy', 'fromkeys', 'get', 'items', 'keys', 'pop', 'popitem', 'setdefault', 'update', 'values']\n",
      "\n",
      "\n",
      "Diana Prince\n",
      "('Jocker', 'UnKnown')\n",
      "Help on built-in function update:\n",
      "\n",
      "update(...) method of builtins.dict instance\n",
      "    D.update([E, ]**F) -> None.  Update D from dict/iterable E and F.\n",
      "    If E is present and has a .keys() method, then does:  for k in E: D[k] = E[k]\n",
      "    If E is present and lacks a .keys() method, then does:  for k, v in E: D[k] = v\n",
      "    In either case, this is followed by: for k in F:  D[k] = F[k]\n",
      "\n",
      "{'Batman': 'Bruce wayne', 'IronMan': 'Tony stark, #I am Iron Man', 'Spiderman': 'Peter parker', 'Superman': 'Clark Kent', 'Captain America': 'Steve Roger', 'Jocker': 'Still Unknown', 'Deadpool': 'Wayde willson'}\n"
     ]
    }
   ],
   "source": [
    "\"\"\" Dictionary \"\"\"\n",
    "\n",
    "d= {\"Batman\":\"Bruce wayne\" , \n",
    "    \"IronMan\":\"Tony stark, #I am Iron Man\",\n",
    "    \"Spiderman\":\"Peter parker\", \n",
    "    \"Superman\":\"Clark Kent\" ,\n",
    "    \"Wonder woman\":\"Diana Prince\", \n",
    "    \"Captain America\":\"Steve Roger\" , \n",
    "    \"Jocker\":\"UnKnown\"\n",
    "   }\n",
    "\n",
    "\n",
    "print(d)\n",
    "print(\"\\n\")\n",
    "print(d.keys()) # returns all keys from dictionary\n",
    "print(\"\\n\")\n",
    "print(d.values()) #  returns all values from dictionary\n",
    "print(\"\\n\")\n",
    "\n",
    "print(d[\"Batman\"])\n",
    "print(d.get(\"meera\")) #dictionary_object.get(key)  return value related to key, if key and value are not in dictionary than returns none\n",
    "\n",
    "print(dir(d))\n",
    "print(\"\\n\")\n",
    "print(d.pop(\"Wonder woman\")) # dictionary_object.pop(key) returns a value related to that key.\n",
    "print(d.popitem()) # dictionary_object.popitem() returns a last index key and value permanantly.\n",
    "\n",
    "help(d.update)\n",
    "d[\"Jocker\"]= \"Still Unknown\" # updating a dictionary.\n",
    "d[\"Deadpool\"]= \"Wayde willson\" # adding a new key and value in distionary.\n",
    "\n",
    "print(d)"
   ]
  },
  {
   "cell_type": "code",
   "execution_count": 12,
   "metadata": {},
   "outputs": [
    {
     "name": "stdout",
     "output_type": "stream",
     "text": [
      "{1, 2, 3}\n",
      "{1, 2, 3}\n",
      "Lengh of set s  =  3\n",
      "Lengh of set s2 = 3\n",
      "\n",
      "\n",
      "Performing union on s and s2 where result is s3 and difference on s and s2 where result is s4 \n",
      "\n",
      "\n",
      "set s3 =  {1, 2, 3, 5, 6}\n",
      "set s4 =  {5}\n",
      "\n",
      "\n",
      "Performing discard and remove on ser s \n",
      "set s = {1, 2, 3, 5}\n",
      "set s = {1, 2, 3}\n",
      "\n",
      "\n",
      "performing intersection on set s and s2 \n",
      "set s5 =  {1, 2, 3}\n",
      "\n",
      "\n",
      "Poping out set s element 3 :  1\n"
     ]
    }
   ],
   "source": [
    "\"\"\" Set:  a set is a tuple which has non duplicate values\"\"\"\n",
    "\n",
    "#help(set) #uncomment help function if you want help on set\n",
    "\n",
    "s ={1,1,1,2,3}\n",
    "s2 ={1,2,3}\n",
    "print(s)\n",
    "print(s2)\n",
    "\n",
    "\n",
    "print(\"Lengh of set s  = \", s.__len__())\n",
    "print(\"Lengh of set s2 =\", s2.__len__())\n",
    "\n",
    "s.add(5)\n",
    "s2.add(6)\n",
    "\n",
    "print(\"\\n\")\n",
    "print(\"Performing union on s and s2 where result is s3 and difference on s and s2 where result is s4 \")\n",
    "s3 =s.union(s2) # gives you all union element of both set\n",
    "s4 = s.difference(s2) # difference gives you diffent element of both set.\n",
    "print(\"\\n\")\n",
    "print(\"set s3 = \",s3)\n",
    "print(\"set s4 = \",s4)\n",
    "print(\"\\n\")\n",
    "\n",
    "print(\"Performing discard and remove on ser s \")\n",
    "print(\"set s =\",s)\n",
    "s.discard(5) # discard remove element from set, if that element is not in set it does nothing\n",
    "#s.remove(8)  # remove throws a keyvalue error if element is not in that set\n",
    "print(\"set s =\",s) # after discarding element 5\n",
    "\n",
    "\n",
    "print(\"\\n\")\n",
    "print(\"performing intersection on set s and s2 \")\n",
    "s5 = s.intersection(s2)\n",
    "print(\"set s5 = \", s5)\n",
    "\n",
    "print(\"\\n\")\n",
    "\n",
    "print(\"Poping out set s element 3 : \", s.pop()) # return first element from a set."
   ]
  },
  {
   "cell_type": "code",
   "execution_count": 14,
   "metadata": {},
   "outputs": [
    {
     "name": "stdout",
     "output_type": "stream",
     "text": [
      "('a', 'b') ('c', 'd') ('e', 'f')\n",
      "\n",
      "\n",
      "(25, 'Potato')\n"
     ]
    }
   ],
   "source": [
    "\"\"\" ziping tupples \"\"\"\n",
    "\n",
    "t1= ('a','c','e')\n",
    "t2= ('b','d','f')\n",
    "\n",
    "lzip = zip(t1,t2)\n",
    "\n",
    "print(*lzip) \n",
    "\n",
    "print(\"\\n\")\n",
    "\n",
    "# zipping a dictionary \"\n",
    "\n",
    "vegprices = {\n",
    "   'Tomato': 30,\n",
    "   'Onion': 40,\n",
    "   'Chilly': 60,\n",
    "   'Potato': 25,\n",
    "   'Garlic': 80\n",
    "}\n",
    "\n",
    "\"\"\" Suppose you wan tto perform Min, Max ,sort etc operation on dictionary \"\"\"\n",
    "\n",
    "l= zip(vegprices.values(), vegprices.keys())\n",
    "print(min(l))\n",
    "\n"
   ]
  },
  {
   "cell_type": "code",
   "execution_count": 14,
   "metadata": {},
   "outputs": [
    {
     "name": "stdout",
     "output_type": "stream",
     "text": [
      "john\n"
     ]
    }
   ],
   "source": [
    "\"\"\" Unpacking a object into seprate elements \"\"\"\n",
    "\n",
    "tup = (\"john\", \"make\" ,\"engineer\")\n",
    "Name, lastname, profession= tup\n",
    "print(Name)\n"
   ]
  },
  {
   "cell_type": "code",
   "execution_count": 16,
   "metadata": {},
   "outputs": [
    {
     "name": "stdout",
     "output_type": "stream",
     "text": [
      "hello, value of a =  5\n",
      "\n",
      "\n",
      "1 squared is 1\n",
      "2 squared is 4\n",
      "3 squared is 9\n",
      "4 squared is 16\n",
      "5 squared is 25\n",
      "\n",
      "\n",
      "2 <class 'int'>\n",
      "5 <class 'int'>\n",
      "2 <class 'int'>\n",
      "hello <class 'str'>\n",
      "team <class 'str'>\n",
      "False <class 'bool'>\n",
      "True <class 'bool'>\n",
      "5.0 <class 'float'>\n",
      "\n",
      "\n"
     ]
    },
    {
     "ename": "NameError",
     "evalue": "name 'd' is not defined",
     "output_type": "error",
     "traceback": [
      "\u001b[1;31m---------------------------------------------------------------------------\u001b[0m",
      "\u001b[1;31mNameError\u001b[0m                                 Traceback (most recent call last)",
      "\u001b[1;32m<ipython-input-16-960f7aabf167>\u001b[0m in \u001b[0;36m<module>\u001b[1;34m()\u001b[0m\n\u001b[0;32m     29\u001b[0m \u001b[1;34m\"operating a dictionary with for loop \"\u001b[0m\u001b[1;33m\u001b[0m\u001b[0m\n\u001b[0;32m     30\u001b[0m \u001b[1;33m\u001b[0m\u001b[0m\n\u001b[1;32m---> 31\u001b[1;33m \u001b[1;32mfor\u001b[0m \u001b[0mi\u001b[0m \u001b[1;32min\u001b[0m \u001b[0md\u001b[0m\u001b[1;33m:\u001b[0m\u001b[1;33m\u001b[0m\u001b[0m\n\u001b[0m\u001b[0;32m     32\u001b[0m     \u001b[0mprint\u001b[0m\u001b[1;33m(\u001b[0m\u001b[0md\u001b[0m\u001b[1;33m[\u001b[0m\u001b[0mi\u001b[0m\u001b[1;33m]\u001b[0m\u001b[1;33m)\u001b[0m\u001b[1;33m\u001b[0m\u001b[0m\n",
      "\u001b[1;31mNameError\u001b[0m: name 'd' is not defined"
     ]
    }
   ],
   "source": [
    "\"\"\"IF control statement \"\"\"\n",
    "\n",
    "a=5\n",
    "\n",
    "if a == 5:\n",
    "    print(\"hello, value of a = \", a)\n",
    "else:\n",
    "    print(\"Value doesn't match..!\")\n",
    "    \n",
    "    \n",
    "print(\"\\n\")\n",
    "\n",
    "\n",
    "\n",
    "\"\"\" For loop \"\"\"\n",
    "\n",
    "for x in range(1, 6):  #for loop with a range function\n",
    "    print( x, \"squared is\", x * x)\n",
    "\n",
    "print(\"\\n\")\n",
    "\n",
    "l = [2,5,2,\"hello\", \"team\", False, True, 5.0,] # defining a list\n",
    "\n",
    "for i in range(len(l)):  #for loop on a list.\n",
    "    print(l[i], type(l[i]))\n",
    "\n",
    "print(\"\\n\")\n",
    "    \n",
    "\"operating a dictionary with for loop \"\n",
    "\n",
    "for i in d:\n",
    "    print(d[i])\n"
   ]
  },
  {
   "cell_type": "code",
   "execution_count": 64,
   "metadata": {},
   "outputs": [
    {
     "name": "stdout",
     "output_type": "stream",
     "text": [
      "hello\n",
      "\n",
      "\n",
      "15\n",
      "\n",
      "\n",
      "hello\n",
      "5\n",
      "there\n",
      "a: james\n",
      "b: bond\n"
     ]
    }
   ],
   "source": [
    "\"\"\" Functions \"\"\"\n",
    "\n",
    "def fun(): #function with no arguement \n",
    "    print(\"hello\")\n",
    "    \n",
    "def add(a,b):  #function with arguements\n",
    "    return print(a+b)\n",
    "\n",
    "def Multiple_Arg(*args, **kwargs):  #passing arbitary arguements and kewords\n",
    "    for arg in args:\n",
    "        print(arg)\n",
    "    for k,v in kwargs.items():\n",
    "        print(\"%s: %s\" %(k,v))\n",
    "\n",
    "        \n",
    "        \n",
    "        \n",
    "fun()\n",
    "print(\"\\n\")\n",
    "\n",
    "add(5,10)\n",
    "print(\"\\n\")\n",
    "\n",
    "Multiple_Arg(\"hello\", 5, \"there\", a=\"james\", b=\"bond\")\n",
    "\n",
    "\n",
    "\n",
    "    \n"
   ]
  },
  {
   "cell_type": "code",
   "execution_count": 8,
   "metadata": {},
   "outputs": [
    {
     "name": "stdout",
     "output_type": "stream",
     "text": [
      "['AsyncGenerator', 'AsyncIterable', 'AsyncIterator', 'Awaitable', 'ByteString', 'Callable', 'ChainMap', 'Collection', 'Container', 'Coroutine', 'Counter', 'Generator', 'Hashable', 'ItemsView', 'Iterable', 'Iterator', 'KeysView', 'Mapping', 'MappingView', 'MutableMapping', 'MutableSequence', 'MutableSet', 'OrderedDict', 'Reversible', 'Sequence', 'Set', 'Sized', 'UserDict', 'UserList', 'UserString', 'ValuesView', '_Link', '_OrderedDictItemsView', '_OrderedDictKeysView', '_OrderedDictValuesView', '__all__', '__builtins__', '__cached__', '__doc__', '__file__', '__loader__', '__name__', '__package__', '__path__', '__spec__', '_chain', '_class_template', '_collections_abc', '_count_elements', '_eq', '_field_template', '_heapq', '_iskeyword', '_itemgetter', '_proxy', '_recursive_repr', '_repeat', '_repr_template', '_starmap', '_sys', 'abc', 'defaultdict', 'deque', 'namedtuple']\n",
      "\n",
      "\n",
      "Counter({'eyes': 8, 'the': 5, 'look': 4, 'into': 3, 'my': 3, 'around': 2, 'not': 1, \"don't\": 1, \"you're\": 1, 'under': 1})\n",
      "\n",
      "\n",
      "[('eyes', 8), ('the', 5), ('look', 4)]\n"
     ]
    }
   ],
   "source": [
    "\"\"\" collections module in python \"\"\"\n",
    "import collections as c\n",
    "print(dir(c))\n",
    "\n",
    "print(\"\\n\")\n",
    "\n",
    "#collection as many intresting function and data type in it.\n",
    "\n",
    "\"\"\" suppose we have a list of word and we need to find number of repeating words in it. \"\"\"\n",
    "words = [\n",
    "   'look', 'into', 'my', 'eyes', 'look', 'into', 'my', 'eyes',\n",
    "   'the', 'eyes', 'the', 'eyes', 'the', 'eyes', 'not', 'around', 'the',\n",
    "   'eyes', \"don't\", 'look', 'around', 'the', 'eyes', 'look', 'into',\n",
    "   'my', 'eyes', \"you're\", 'under'\n",
    "]\n",
    "\n",
    "from collections import Counter\n",
    "\n",
    "word_counts = Counter(words) # counter will returns you a sorted dictionary of word as key and count as value\n",
    "\n",
    "print(word_counts)\n",
    "print(\"\\n\")\n",
    "\n",
    "top_three = word_counts.most_common(3) \n",
    "print(top_three)"
   ]
  },
  {
   "cell_type": "code",
   "execution_count": 5,
   "metadata": {},
   "outputs": [
    {
     "name": "stdout",
     "output_type": "stream",
     "text": [
      "{('Aman', 'Dharm'): ['Jatin', 'Anshika'], ('Anshika', 'Dharm'): ['Aman', 'Jatin'], ('Dharm', 'Girish'): ['Jatin'], ('Dharm', 'Jatin'): ['Aman', 'Anshika'], ('Aman', 'Anshika'): ['Jatin', 'Dharm'], ('Aman', 'Girish'): ['Jatin', 'Dharm'], ('Aman', 'Jatin'): ['Dharm', 'Anshika'], ('Anshika', 'Girish'): ['Jatin', 'Dharm'], ('Anshika', 'Jatin'): ['Dharm', 'Aman'], ('Girish', 'Jatin'): ['Dharm']}\n"
     ]
    }
   ],
   "source": [
    "\"\"\" Finding a mutual friend in FB \"\"\"\n",
    "\n",
    "\n",
    "FB = {\"Dharm\":[\"Aman\",\"Jatin\",\"Anshika\",\"Girish\",\"Hitu\",\"Madhu\"], \n",
    "\"Aman\":[\"Mahak\",\"Jatin\",\"Anshika\",\"Amit\",\"Dharm\"], \n",
    "\"Anshika\":[\"Aman\",\"Jatin\",\"madhu\",\"divya\",\"Dharm\"], \n",
    "\"Girish\":[\"Jatin\",\"mahakanta\",\"Mahendra\",\"Dharm\"],\n",
    " \"Jatin\":[\"Dharm\",\"Aman\",\"Anshika\",\"Ankit\"] }\n",
    "\n",
    "def mapperreduce(FB):\n",
    "    mutualfriends={  }\n",
    "    for f1 in FB:\n",
    "        person = FB[f1] # storing persons \n",
    "        \n",
    "        for f2 in FB:\n",
    "            if f1 !=f2:\n",
    "                \n",
    "                friend = FB[f2]\n",
    "                key = (f1, f2)\n",
    "                value = []\n",
    "            \n",
    "                for i in range(len(person)):\n",
    "                    for j in range(len(friend)):\n",
    "                        if person[i]==friend[j]:\n",
    "                            value.append(person[i])             \n",
    "                key=sorted(key)\n",
    "                key=tuple(key)\n",
    "                mutualfriends[key]= value\n",
    "\n",
    "    return mutualfriends\n",
    "\n",
    "mapresult= mapperreduce(FB)\n",
    "print(mapresult)"
   ]
  },
  {
   "cell_type": "code",
   "execution_count": 4,
   "metadata": {},
   "outputs": [
    {
     "name": "stdout",
     "output_type": "stream",
     "text": [
      "Mapper output: \n",
      "{('Aman', 'Dharm'): [['Aman', 'Jatin', 'Anshika', 'Girish', 'Hitu', 'Madhu'], ['Mahak', 'Jatin', 'Anshika', 'Amit', 'Dharm']], ('Aman', 'Anshika'): [['Aman', 'Jatin', 'Madhu', 'Divya', 'Dharm'], ['Mahak', 'Jatin', 'Anshika', 'Amit', 'Dharm']], ('Aman', 'Girish'): [['Jatin', 'mahakanta', 'Mahendra', 'Dharm'], ['Mahak', 'Jatin', 'Anshika', 'Amit', 'Dharm']], ('Aman', 'Jatin'): [['Dharm', 'Aman', 'Anshika', 'Ankit', 'Girish'], ['Mahak', 'Jatin', 'Anshika', 'Amit', 'Dharm']], ('Anshika', 'Dharm'): [['Aman', 'Jatin', 'Madhu', 'Divya', 'Dharm'], ['Aman', 'Jatin', 'Anshika', 'Girish', 'Hitu', 'Madhu']], ('Dharm', 'Girish'): [['Jatin', 'mahakanta', 'Mahendra', 'Dharm'], ['Aman', 'Jatin', 'Anshika', 'Girish', 'Hitu', 'Madhu']], ('Dharm', 'Jatin'): [['Dharm', 'Aman', 'Anshika', 'Ankit', 'Girish'], ['Aman', 'Jatin', 'Anshika', 'Girish', 'Hitu', 'Madhu']], ('Anshika', 'Girish'): [['Jatin', 'mahakanta', 'Mahendra', 'Dharm'], ['Aman', 'Jatin', 'Madhu', 'Divya', 'Dharm']], ('Anshika', 'Jatin'): [['Dharm', 'Aman', 'Anshika', 'Ankit', 'Girish'], ['Aman', 'Jatin', 'Madhu', 'Divya', 'Dharm']], ('Girish', 'Jatin'): [['Dharm', 'Aman', 'Anshika', 'Ankit', 'Girish'], ['Jatin', 'mahakanta', 'Mahendra', 'Dharm']]}\n",
      "\n",
      "\n",
      "Reducer Output: \n",
      "{('Aman', 'Dharm'): ['Jatin', 'Anshika'], ('Aman', 'Anshika'): ['Jatin', 'Dharm'], ('Aman', 'Girish'): ['Jatin', 'Dharm'], ('Aman', 'Jatin'): ['Dharm', 'Anshika'], ('Anshika', 'Dharm'): ['Aman', 'Jatin', 'Madhu'], ('Dharm', 'Girish'): ['Jatin'], ('Dharm', 'Jatin'): ['Aman', 'Anshika', 'Girish'], ('Anshika', 'Girish'): ['Jatin', 'Dharm'], ('Anshika', 'Jatin'): ['Dharm', 'Aman'], ('Girish', 'Jatin'): ['Dharm']}\n"
     ]
    }
   ],
   "source": [
    "FB = { \"Aman\":[\"Mahak\",\"Jatin\",\"Anshika\",\"Amit\",\"Dharm\"], \n",
    "       \"Dharm\":[\"Aman\",\"Jatin\",\"Anshika\",\"Girish\",\"Hitu\",\"Madhu\"], \n",
    "       \"Anshika\":[\"Aman\",\"Jatin\",\"Madhu\",\"Divya\",\"Dharm\"], \n",
    "       \"Girish\":[\"Jatin\",\"mahakanta\",\"Mahendra\",\"Dharm\"], \n",
    "       \"Jatin\":[\"Dharm\",\"Aman\",\"Anshika\",\"Ankit\", \"Girish\"] }   # creating a dictionary FB\n",
    "\n",
    "\n",
    "def mapper(disc):    # mapper function defination \n",
    "    data = disc\n",
    "    mutualfriends={  }    # creating an empty dictionary \n",
    "    for f1 in FB:        #taking each person from FB dictionary\n",
    "        personf = FB[f1]      #stroring person friend in person list\n",
    "        for f2 in FB:\n",
    "            if f1 != f2:      # checking if person is not person itself.\n",
    "                friendf = FB[f2]\n",
    "                key = [f1, f2] # creating a tuple of (person , friend)\n",
    "                value = []    #creating an empty list \n",
    "                \n",
    "                value.append(personf)   \n",
    "                value.append(friendf)\n",
    "                key= sorted(key)\n",
    "                key =tuple(key)   \n",
    "                \n",
    "                mutualfriends[key]= value  # creating a key and value in dictionary\n",
    "                \n",
    "                \n",
    "\n",
    "    return mutualfriends  # returning final mutual frind dictionary\n",
    "\n",
    "\n",
    "\n",
    "\n",
    "def reducer(dics):\n",
    "    data = dics     #access mutualfriends dictionary as data in reducer\n",
    "    mutualfriend ={}   # defining a dictionary to store final result.\n",
    "    \n",
    "    for k in data:\n",
    "        key = k\n",
    "        friends = []\n",
    "        value = data[k]\n",
    "        personfriends=value[0] #storing first value as personfriends\n",
    "        friendfriends= value[1] #storing first value as friendfriends\n",
    "        \n",
    "        for i in range(len(personfriends)):\n",
    "            for j in range(len(friendfriends)):\n",
    "                if personfriends[i]==friendfriends[j]:  # if friend in personf matches friendf\n",
    "                    friends.append(personfriends[i])    #append that value in friends list\n",
    "\n",
    "        mutualfriend[key]= friends\n",
    "                   \n",
    "\n",
    "    return mutualfriend  # return the final dictionary\n",
    "\n",
    "\n",
    "fbmap = mapper(FB) # calling maper fuction and passig data set\n",
    "\n",
    "fbreduce = reducer(fbmap) # calling reduce function and passing mapper output\n",
    "\n",
    "print(\"Mapper output: \") \n",
    "print(fbmap)\n",
    "\n",
    "print (\"\\n\")\n",
    "\n",
    "print(\"Reducer Output: \")  \n",
    "print(fbreduce)  "
   ]
  },
  {
   "cell_type": "code",
   "execution_count": 25,
   "metadata": {},
   "outputs": [
    {
     "name": "stdout",
     "output_type": "stream",
     "text": [
      "  9           0 LOAD_CONST               1 (<code object <listcomp> at 0x00000255B0748660, file \"<ipython-input-25-f16bff9520d7>\", line 9>)\n",
      "              2 LOAD_CONST               2 ('a.<locals>.<listcomp>')\n",
      "              4 MAKE_FUNCTION            0\n",
      "              6 LOAD_GLOBAL              0 (range)\n",
      "              8 LOAD_CONST               3 (10)\n",
      "             10 CALL_FUNCTION            1\n",
      "             12 GET_ITER\n",
      "             14 CALL_FUNCTION            1\n",
      "             16 STORE_FAST               0 (li)\n",
      "             18 LOAD_CONST               0 (None)\n",
      "             20 RETURN_VALUE\n",
      "list:  None\n",
      "\n",
      "\n",
      " 13           0 LOAD_CONST               1 (<code object <genexpr> at 0x00000255B0748D20, file \"<ipython-input-25-f16bff9520d7>\", line 13>)\n",
      "              2 LOAD_CONST               2 ('b.<locals>.<genexpr>')\n",
      "              4 MAKE_FUNCTION            0\n",
      "              6 LOAD_GLOBAL              0 (range)\n",
      "              8 LOAD_CONST               3 (10)\n",
      "             10 CALL_FUNCTION            1\n",
      "             12 GET_ITER\n",
      "             14 CALL_FUNCTION            1\n",
      "             16 STORE_FAST               0 (tup)\n",
      "             18 LOAD_CONST               0 (None)\n",
      "             20 RETURN_VALUE\n",
      "tuple:  None\n"
     ]
    }
   ],
   "source": [
    "\"\"\" dis is Disembler of python: dis module is disassembler in python, it disassemble function or class or method.\n",
    "    we are using disassembler to check define and accessing steps of a list and tuple\n",
    "\"\"\"\n",
    "import dis\n",
    "#help(dis)\n",
    "\n",
    "\n",
    "def a():\n",
    "    li =[i for i in range(10)]\n",
    "    \n",
    "\n",
    "def b():\n",
    "    tup =(i for i in range(10))\n",
    "    \n",
    "    \n",
    "print(\"list: \", dis.dis(a)) \n",
    "print(\"\\n\")\n",
    "print(\"tuple: \", dis.dis(b))\n",
    "    "
   ]
  },
  {
   "cell_type": "code",
   "execution_count": 68,
   "metadata": {},
   "outputs": [
    {
     "ename": "SyntaxError",
     "evalue": "invalid syntax (<ipython-input-68-8805bb862cb7>, line 2)",
     "output_type": "error",
     "traceback": [
      "\u001b[1;36m  File \u001b[1;32m\"<ipython-input-68-8805bb862cb7>\"\u001b[1;36m, line \u001b[1;32m2\u001b[0m\n\u001b[1;33m    if i < 20 && i > 5:\u001b[0m\n\u001b[1;37m               ^\u001b[0m\n\u001b[1;31mSyntaxError\u001b[0m\u001b[1;31m:\u001b[0m invalid syntax\n"
     ]
    }
   ],
   "source": [
    "i = 10\n",
    "if i < 20 & i > 5:\n",
    "    print(\"if\")\n",
    "else:\n",
    "    print(\"else\")"
   ]
  }
 ],
 "metadata": {
  "kernelspec": {
   "display_name": "Python 3",
   "language": "python",
   "name": "python3"
  },
  "language_info": {
   "codemirror_mode": {
    "name": "ipython",
    "version": 3
   },
   "file_extension": ".py",
   "mimetype": "text/x-python",
   "name": "python",
   "nbconvert_exporter": "python",
   "pygments_lexer": "ipython3",
   "version": "3.6.4"
  }
 },
 "nbformat": 4,
 "nbformat_minor": 2
}
